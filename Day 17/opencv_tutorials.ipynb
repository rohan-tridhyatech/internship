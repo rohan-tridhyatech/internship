{
 "cells": [
  {
   "cell_type": "code",
   "execution_count": 1,
   "metadata": {},
   "outputs": [],
   "source": [
    "import cv2\n",
    "import numpy as np"
   ]
  },
  {
   "cell_type": "code",
   "execution_count": 22,
   "metadata": {},
   "outputs": [],
   "source": [
    "# Load an image\n",
    "image = cv2.imread(\"image_1.png\")\n",
    "\n",
    "# Display image\n",
    "cv2.imshow(\"Image\", image)\n",
    "cv2.waitKey(0)\n",
    "cv2.destroyAllWindows()\n"
   ]
  },
  {
   "cell_type": "code",
   "execution_count": 23,
   "metadata": {},
   "outputs": [],
   "source": [
    "# Load an image\n",
    "image = cv2.imread(\"image_1.png\")\n",
    "\n",
    "# Display image\n",
    "cv2.imshow(\"Image\", image)\n",
    "cv2.waitKey(5000)\n",
    "cv2.destroyAllWindows()\n"
   ]
  },
  {
   "cell_type": "code",
   "execution_count": 44,
   "metadata": {},
   "outputs": [],
   "source": [
    "img1 = cv2.imread(\"image_1.png\")  \n",
    "img2 = cv2.imread(\"image_2.png\")  \n",
    "cv2.imshow(\"Image 1\", img1) \n",
    "cv2.imshow(\"Image 2\", img2) \n",
    "cv2.waitKey(0) \n",
    "cv2.destroyAllWindows() "
   ]
  },
  {
   "cell_type": "code",
   "execution_count": 26,
   "metadata": {},
   "outputs": [
    {
     "data": {
      "text/plain": [
       "True"
      ]
     },
     "execution_count": 26,
     "metadata": {},
     "output_type": "execute_result"
    }
   ],
   "source": [
    "# Read and write images\n",
    "img = cv2.imread(\"image_1.png\", cv2.IMREAD_COLOR)  # Color image\n",
    "cv2.imwrite(\"image_2.jpg\", img)  # Save as new file\n"
   ]
  },
  {
   "cell_type": "code",
   "execution_count": 27,
   "metadata": {},
   "outputs": [
    {
     "data": {
      "text/plain": [
       "True"
      ]
     },
     "execution_count": 27,
     "metadata": {},
     "output_type": "execute_result"
    }
   ],
   "source": [
    "# Resize\n",
    "img = cv2.imread(\"image_1.png\", cv2.IMREAD_COLOR)  \n",
    "resized = cv2.resize(img, (300, 300))\n",
    "cv2.imwrite(\"output.png\", resized)  \n"
   ]
  },
  {
   "cell_type": "code",
   "execution_count": null,
   "metadata": {},
   "outputs": [
    {
     "data": {
      "text/plain": [
       "True"
      ]
     },
     "execution_count": 28,
     "metadata": {},
     "output_type": "execute_result"
    }
   ],
   "source": [
    "# Crop\n",
    "img = cv2.imread(\"image_1.png\", cv2.IMREAD_COLOR)  \n",
    "cropped = img[50:200, 100:300]\n",
    "cv2.imwrite(\"output.png\", cropped)  \n"
   ]
  },
  {
   "cell_type": "code",
   "execution_count": 75,
   "metadata": {},
   "outputs": [],
   "source": [
    "# Slider\n",
    "import os\n",
    "image_list = os.listdir(\"images\")\n",
    "for name in image_list:\n",
    "    path = f\"images\\\\{name}\"\n",
    "    img = cv2.imread(path)\n",
    "    img = cv2.resize(img, (500, 500))\n",
    "    cv2.imshow(\"Image Slidshow\",img)\n",
    "    cv2.waitKey(1000)\n",
    "cv2.destroyAllWindows()    \n"
   ]
  },
  {
   "cell_type": "code",
   "execution_count": 76,
   "metadata": {},
   "outputs": [],
   "source": [
    "# Slider\n",
    "import os\n",
    "image_list = os.listdir(\"images\")\n",
    "for name in image_list:\n",
    "    path = f\"images\\\\{name}\"\n",
    "    img = cv2.imread(path)\n",
    "    img = cv2.resize(img, (500, 500))\n",
    "    cv2.imshow(\"Image Slidshow\",img)\n",
    "    cv2.waitKey(0)\n",
    "cv2.destroyAllWindows()    \n"
   ]
  },
  {
   "cell_type": "code",
   "execution_count": 46,
   "metadata": {},
   "outputs": [
    {
     "name": "stdout",
     "output_type": "stream",
     "text": [
      "[[[234 250 249]\n",
      "  [234 250 249]\n",
      "  [234 250 249]\n",
      "  ...\n",
      "  [ 34  44  51]\n",
      "  [ 33  41  48]\n",
      "  [ 31  39  46]]\n",
      "\n",
      " [[234 250 249]\n",
      "  [234 250 249]\n",
      "  [234 250 249]\n",
      "  ...\n",
      "  [ 34  44  51]\n",
      "  [ 34  42  49]\n",
      "  [ 31  39  46]]\n",
      "\n",
      " [[234 250 249]\n",
      "  [234 250 249]\n",
      "  [233 249 248]\n",
      "  ...\n",
      "  [ 35  45  52]\n",
      "  [ 34  42  49]\n",
      "  [ 31  39  46]]\n",
      "\n",
      " ...\n",
      "\n",
      " [[141 155 153]\n",
      "  [142 156 154]\n",
      "  [143 157 155]\n",
      "  ...\n",
      "  [ 70  77  80]\n",
      "  [ 65  72  75]\n",
      "  [ 66  73  76]]\n",
      "\n",
      " [[140 154 152]\n",
      "  [140 154 152]\n",
      "  [141 155 153]\n",
      "  ...\n",
      "  [ 74  81  84]\n",
      "  [ 73  80  83]\n",
      "  [ 76  83  86]]\n",
      "\n",
      " [[140 154 152]\n",
      "  [139 153 151]\n",
      "  [139 153 151]\n",
      "  ...\n",
      "  [ 73  80  83]\n",
      "  [ 76  83  86]\n",
      "  [ 82  89  92]]]\n"
     ]
    }
   ],
   "source": [
    "img = cv2.imread(\"image_1.png\", cv2.IMREAD_COLOR)  \n",
    "print(img)"
   ]
  },
  {
   "cell_type": "code",
   "execution_count": 48,
   "metadata": {},
   "outputs": [
    {
     "data": {
      "text/plain": [
       "array([1, 2, 3, 1, 2, 3, 1, 2, 3, 1, 2, 3])"
      ]
     },
     "execution_count": 48,
     "metadata": {},
     "output_type": "execute_result"
    }
   ],
   "source": [
    "h = np.array([1,2,3,1,2,3])\n",
    "np.hstack((h,h))"
   ]
  },
  {
   "cell_type": "code",
   "execution_count": 54,
   "metadata": {},
   "outputs": [
    {
     "data": {
      "text/plain": [
       "array([[1, 2, 3, 1, 2, 3],\n",
       "       [1, 2, 3, 1, 2, 3]])"
      ]
     },
     "execution_count": 54,
     "metadata": {},
     "output_type": "execute_result"
    }
   ],
   "source": [
    "v = np.array([1,2,3,1,2,3])\n",
    "np.vstack((v,v))"
   ]
  },
  {
   "cell_type": "code",
   "execution_count": null,
   "metadata": {},
   "outputs": [
    {
     "data": {
      "text/plain": [
       "True"
      ]
     },
     "execution_count": 56,
     "metadata": {},
     "output_type": "execute_result"
    }
   ],
   "source": [
    "# join image horizontally\n",
    "img = cv2.imread(\"image_1.png\")  \n",
    "img = cv2.resize(img, (300,300)) \n",
    "h = np.hstack((img, img))\n",
    "cv2.imwrite(\"output.png\", h) "
   ]
  },
  {
   "cell_type": "code",
   "execution_count": null,
   "metadata": {},
   "outputs": [
    {
     "data": {
      "text/plain": [
       "True"
      ]
     },
     "execution_count": 58,
     "metadata": {},
     "output_type": "execute_result"
    }
   ],
   "source": [
    "# join inage vertically\n",
    "img = cv2.imread(\"image_1.png\")  \n",
    "img = cv2.resize(img, (300,300)) \n",
    "v = np.vstack((img, img))\n",
    "cv2.imwrite(\"output.png\", v) "
   ]
  },
  {
   "cell_type": "code",
   "execution_count": null,
   "metadata": {},
   "outputs": [
    {
     "data": {
      "text/plain": [
       "True"
      ]
     },
     "execution_count": 60,
     "metadata": {},
     "output_type": "execute_result"
    }
   ],
   "source": [
    "# join horizontally and verically both\n",
    "img = cv2.imread(\"image_1.png\")  \n",
    "img = cv2.resize(img, (300,300)) \n",
    "h = np.hstack((img, img))\n",
    "v =np.vstack((h,h))\n",
    "cv2.imwrite(\"output.png\", v) "
   ]
  },
  {
   "cell_type": "code",
   "execution_count": 61,
   "metadata": {},
   "outputs": [
    {
     "data": {
      "text/plain": [
       "True"
      ]
     },
     "execution_count": 61,
     "metadata": {},
     "output_type": "execute_result"
    }
   ],
   "source": [
    "# Color Conversion : GrayScale\n",
    "img = cv2.imread(\"image_1.png\", cv2.IMREAD_COLOR)  \n",
    "gray = cv2.cvtColor(img, cv2.COLOR_BGR2GRAY)\n",
    "cv2.imwrite(\"output.png\", gray)  \n"
   ]
  },
  {
   "cell_type": "code",
   "execution_count": 31,
   "metadata": {},
   "outputs": [
    {
     "data": {
      "text/plain": [
       "True"
      ]
     },
     "execution_count": 31,
     "metadata": {},
     "output_type": "execute_result"
    }
   ],
   "source": [
    "# Color Conversion : HSV\n",
    "img = cv2.imread(\"image_1.png\", cv2.IMREAD_COLOR)  \n",
    "hsv = cv2.cvtColor(img, cv2.COLOR_BGR2HSV)\n",
    "cv2.imwrite(\"output.png\", hsv)  "
   ]
  },
  {
   "cell_type": "code",
   "execution_count": 67,
   "metadata": {},
   "outputs": [
    {
     "data": {
      "text/plain": [
       "True"
      ]
     },
     "execution_count": 67,
     "metadata": {},
     "output_type": "execute_result"
    }
   ],
   "source": [
    "# Add Text\n",
    "img = cv2.imread(\"image_1.png\") \n",
    "img = cv2.resize(img, (500,500))  \n",
    "cv2.putText(img,     #Put Text on Image\n",
    "            text= \"Men\",\n",
    "            org = (100,200),\n",
    "            fontFace = cv2.FONT_HERSHEY_DUPLEX, \n",
    "            fontScale=3, \n",
    "            color = (0, 255, 0),  #BGR\n",
    "            thickness = 3,\n",
    "            lineType = cv2.LINE_8, \n",
    "            bottomLeftOrigin = False\n",
    ")            \n",
    "cv2.imwrite(\"output.png\", img)  \n"
   ]
  },
  {
   "cell_type": "code",
   "execution_count": 68,
   "metadata": {},
   "outputs": [
    {
     "data": {
      "text/plain": [
       "True"
      ]
     },
     "execution_count": 68,
     "metadata": {},
     "output_type": "execute_result"
    }
   ],
   "source": [
    "# Drae Shape : Line\n",
    "img = cv2.imread(\"image_1.png\") \n",
    "img = cv2.resize(img, (500,500)) \n",
    "cv2.line(img,\n",
    "        pt1 = (80,95),\n",
    "        pt2 = (125,70),\n",
    "        color =  (0,255,0),\n",
    "        thickness = 3,\n",
    "        lineType = 4,\n",
    "    )\n",
    "cv2.line(img,\n",
    "        pt1 = (125,70),\n",
    "        pt2 = (174,60),\n",
    "        color =  (0,255,0),\n",
    "        thickness = 3,\n",
    "        lineType = 4,\n",
    "    )\n",
    "cv2.imwrite(\"output.png\", img)  \n"
   ]
  },
  {
   "cell_type": "code",
   "execution_count": 70,
   "metadata": {},
   "outputs": [
    {
     "data": {
      "text/plain": [
       "True"
      ]
     },
     "execution_count": 70,
     "metadata": {},
     "output_type": "execute_result"
    }
   ],
   "source": [
    "# Drae Shape : Rectangle\n",
    "img = cv2.imread(\"image_1.png\") \n",
    "img = cv2.resize(img, (500,500)) \n",
    "cv2.rectangle(img,\n",
    "        pt1 = (60,15),\n",
    "        pt2 = (255,180),\n",
    "        color =  (0,255,0),\n",
    "        thickness = 3,\n",
    "        lineType = 4,\n",
    "    )\n",
    "cv2.imwrite(\"output.png\", img)  "
   ]
  },
  {
   "cell_type": "code",
   "execution_count": 71,
   "metadata": {},
   "outputs": [
    {
     "data": {
      "text/plain": [
       "True"
      ]
     },
     "execution_count": 71,
     "metadata": {},
     "output_type": "execute_result"
    }
   ],
   "source": [
    "# Drae Shape : Circle\n",
    "img = cv2.imread(\"image_1.png\") \n",
    "img = cv2.resize(img, (500,500)) \n",
    "cv2.circle(img,\n",
    "        center = (160,100),\n",
    "        radius = 95,\n",
    "        color =  (0,255,0),\n",
    "        thickness = 4,\n",
    "        lineType = 16,\n",
    "    )\n",
    "cv2.imwrite(\"output.png\", img) "
   ]
  },
  {
   "cell_type": "code",
   "execution_count": 72,
   "metadata": {},
   "outputs": [
    {
     "data": {
      "text/plain": [
       "True"
      ]
     },
     "execution_count": 72,
     "metadata": {},
     "output_type": "execute_result"
    }
   ],
   "source": [
    "# Drae Shape : Ellipse\n",
    "img = cv2.imread(\"image_1.png\") \n",
    "img = cv2.resize(img, (500,500)) \n",
    "cv2.ellipse(img,\n",
    "        center = (160,100),\n",
    "        axes = (90,100),\n",
    "        angle = -40,\n",
    "        startAngle = 0,\n",
    "        endAngle =  360,\n",
    "        color=(0,0, 255),\n",
    "        thickness = 4,\n",
    "        lineType = 16,\n",
    "    )\n",
    "cv2.imwrite(\"output.png\", img) "
   ]
  },
  {
   "cell_type": "code",
   "execution_count": 73,
   "metadata": {},
   "outputs": [
    {
     "data": {
      "text/plain": [
       "True"
      ]
     },
     "execution_count": 73,
     "metadata": {},
     "output_type": "execute_result"
    }
   ],
   "source": [
    "# Drae Shape : Polygon\n",
    "img = cv2.imread(\"image_1.png\") \n",
    "img = cv2.resize(img, (500,500)) \n",
    "cv2.polylines(img,\n",
    "              pts= [np.array([ [150,60], [100,150], [100,300], [150,100], [150,200] ])],\n",
    "              isClosed= True,\n",
    "              color= (0,0,255),\n",
    "              thickness= 4,\n",
    "              lineType= 4\n",
    "    )\n",
    "cv2.imwrite(\"output.png\", img) "
   ]
  },
  {
   "cell_type": "code",
   "execution_count": 33,
   "metadata": {},
   "outputs": [
    {
     "data": {
      "text/plain": [
       "True"
      ]
     },
     "execution_count": 33,
     "metadata": {},
     "output_type": "execute_result"
    }
   ],
   "source": [
    "# Rotate image\n",
    "img = cv2.imread(\"image_1.png\", cv2.IMREAD_COLOR)  \n",
    "rows, cols = img.shape[:2]\n",
    "M = cv2.getRotationMatrix2D((cols/2, rows/2), 45, 1)  # 45 degrees\n",
    "rotated = cv2.warpAffine(img, M, (cols, rows))\n",
    "cv2.imwrite(\"output.png\", rotated)"
   ]
  },
  {
   "cell_type": "code",
   "execution_count": 37,
   "metadata": {},
   "outputs": [
    {
     "data": {
      "text/plain": [
       "True"
      ]
     },
     "execution_count": 37,
     "metadata": {},
     "output_type": "execute_result"
    }
   ],
   "source": [
    "# Perspective Transform\n",
    "img = cv2.imread(\"image_1.png\", cv2.IMREAD_COLOR)  \n",
    "pts1 = np.float32([[0, 0], [300, 0], [0, 300], [300, 300]])\n",
    "pts2 = np.float32([[0, 0], [200, 50], [50, 250], [250, 250]])\n",
    "M = cv2.getPerspectiveTransform(pts1, pts2)\n",
    "dst = cv2.warpPerspective(img, M, (300, 300))\n",
    "\n",
    "cv2.imwrite(\"output.png\", dst)"
   ]
  },
  {
   "cell_type": "code",
   "execution_count": null,
   "metadata": {},
   "outputs": [
    {
     "data": {
      "text/plain": [
       "True"
      ]
     },
     "execution_count": 14,
     "metadata": {},
     "output_type": "execute_result"
    }
   ],
   "source": [
    "# Blurring\n",
    "img = cv2.imread(\"image_1.png\", cv2.IMREAD_COLOR) \n",
    "blur = cv2.GaussianBlur(img, (5, 5), 0)\n",
    "cv2.imwrite(\"output.png\", blur)\n"
   ]
  },
  {
   "cell_type": "code",
   "execution_count": 3,
   "metadata": {},
   "outputs": [
    {
     "data": {
      "text/plain": [
       "True"
      ]
     },
     "execution_count": 3,
     "metadata": {},
     "output_type": "execute_result"
    }
   ],
   "source": [
    "# Thresholding\n",
    "img = cv2.imread(\"image_1.png\", cv2.IMREAD_COLOR) \n",
    "_, thresh = cv2.threshold(img, 127, 255, cv2.THRESH_BINARY)\n",
    "cv2.imwrite(\"output.png\", thresh)\n"
   ]
  },
  {
   "cell_type": "code",
   "execution_count": 40,
   "metadata": {},
   "outputs": [
    {
     "data": {
      "text/plain": [
       "True"
      ]
     },
     "execution_count": 40,
     "metadata": {},
     "output_type": "execute_result"
    }
   ],
   "source": [
    "# Edge Detection (Canny Edge Detector)\n",
    "img = cv2.imread(\"image_1.png\", cv2.IMREAD_COLOR) \n",
    "edges = cv2.Canny(img, 100, 200)\n",
    "cv2.imwrite(\"output.png\", edges)"
   ]
  },
  {
   "cell_type": "code",
   "execution_count": 43,
   "metadata": {},
   "outputs": [
    {
     "data": {
      "text/plain": [
       "True"
      ]
     },
     "execution_count": 43,
     "metadata": {},
     "output_type": "execute_result"
    }
   ],
   "source": [
    "# Contours\n",
    "img = cv2.imread(\"image_1.png\", cv2.IMREAD_COLOR) \n",
    "contours, hierarchy = cv2.findContours(thresh, cv2.RETR_TREE, cv2.CHAIN_APPROX_SIMPLE)\n",
    "cv2.drawContours(img, contours, -1, (0, 255, 0), 2)\n",
    "cv2.imwrite(\"output.png\", hierarchy)"
   ]
  },
  {
   "cell_type": "code",
   "execution_count": 81,
   "metadata": {},
   "outputs": [],
   "source": [
    "# Capture video from webcam\n",
    "cap = cv2.VideoCapture(0)\n",
    "\n",
    "while True:\n",
    "    ret, frame = cap.read()\n",
    "    if not ret:\n",
    "        break\n",
    "    cv2.imshow(\"Video\", frame)\n",
    "    if cv2.waitKey(1) & 0xFF == ord(\"q\"):\n",
    "        break\n",
    "\n",
    "cap.release()\n",
    "cv2.destroyAllWindows()\n"
   ]
  },
  {
   "cell_type": "code",
   "execution_count": 82,
   "metadata": {},
   "outputs": [],
   "source": [
    "# Convert Video to Grayscale\n",
    "cap = cv2.VideoCapture(0)\n",
    "\n",
    "while True:\n",
    "    ret, frame = cap.read()\n",
    "    if not ret:\n",
    "        break\n",
    "    \n",
    "    gray = cv2.cvtColor(frame, cv2.COLOR_BGR2GRAY)\n",
    "    # gray = cv2.cvtColor(frame, cv2.COLOR_BGR2HSV)\n",
    "    cv2.imshow('Grayscale Video', gray)\n",
    "    \n",
    "    if cv2.waitKey(1) & 0xFF == ord('q'):\n",
    "        break\n",
    "\n",
    "cap.release()\n",
    "cv2.destroyAllWindows()\n"
   ]
  },
  {
   "cell_type": "code",
   "execution_count": 84,
   "metadata": {},
   "outputs": [],
   "source": [
    "# Face Detection\n",
    "cap = cv2.VideoCapture(0)\n",
    "face_cap = cv2.CascadeClassifier(r\"env\\Lib\\site-packages\\cv2\\data\\haarcascade_frontalface_default.xml\")\n",
    "\n",
    "while True:\n",
    "    ret, frame = cap.read()\n",
    "    col = cv2.cvtColor(frame, cv2.COLOR_BGR2GRAY)\n",
    "    faces = face_cap.detectMultiScale(col,\n",
    "                                      scaleFactor=1.1,\n",
    "                                      minNeighbors= 5,\n",
    "                                      minSize= (30,30), \n",
    "                                      flags= cv2.CASCADE_SCALE_IMAGE\n",
    "                                      )\n",
    "    for (x,y,w,h) in faces:\n",
    "        cv2.rectangle(frame, (x,y), (x+w, y+h), (0,255,0),2)\n",
    "    \n",
    "    cv2.imshow(\"Video Live\", frame)\n",
    "    \n",
    "    if cv2.waitKey(1) & 0xFF == ord('q'):\n",
    "        break\n",
    "cap.release()    \n",
    "cv2.destroyAllWindows()"
   ]
  }
 ],
 "metadata": {
  "kernelspec": {
   "display_name": "env",
   "language": "python",
   "name": "python3"
  },
  "language_info": {
   "codemirror_mode": {
    "name": "ipython",
    "version": 3
   },
   "file_extension": ".py",
   "mimetype": "text/x-python",
   "name": "python",
   "nbconvert_exporter": "python",
   "pygments_lexer": "ipython3",
   "version": "3.12.7"
  }
 },
 "nbformat": 4,
 "nbformat_minor": 2
}
