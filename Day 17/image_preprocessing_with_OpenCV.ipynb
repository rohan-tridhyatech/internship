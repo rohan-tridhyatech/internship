{
 "cells": [
  {
   "cell_type": "code",
   "execution_count": 1,
   "metadata": {},
   "outputs": [],
   "source": [
    "import cv2\n",
    "import numpy as np"
   ]
  },
  {
   "cell_type": "code",
   "execution_count": 3,
   "metadata": {},
   "outputs": [],
   "source": [
    "img1 = cv2.imread(\"image_1.webp\")  #read image\n",
    "cv2.imshow(\"Image 1\", img1) # show image\n",
    "cv2.waitKey(5000) #image frame wait time-milisecond, pass 0 keyboard and key press\n",
    "# cv2.destroyAllWindows() # all windows closes\n",
    "cv2.destroyWindow(\"Image 1\") #only one window closed\n"
   ]
  },
  {
   "cell_type": "code",
   "execution_count": 4,
   "metadata": {},
   "outputs": [],
   "source": [
    "img1 = cv2.imread(\"image_1.webp\")  \n",
    "img2 = cv2.imread(\"image_2.jpg\")  \n",
    "cv2.imshow(\"Image 1\", img1) \n",
    "cv2.imshow(\"Image 2\", img2) \n",
    "cv2.waitKey(0) \n",
    "cv2.destroyAllWindows() "
   ]
  },
  {
   "cell_type": "code",
   "execution_count": 14,
   "metadata": {},
   "outputs": [],
   "source": [
    "img1 = cv2.imread(\"image_1.webp\")  \n",
    "img1 = cv2.resize(img1, (600,600)) #resize image\n",
    "cv2.imshow(\"Image 1\", img1)\n",
    "cv2.waitKey(0) \n",
    "cv2.destroyAllWindows() \n"
   ]
  },
  {
   "cell_type": "code",
   "execution_count": 18,
   "metadata": {},
   "outputs": [
    {
     "name": "stdout",
     "output_type": "stream",
     "text": [
      "[[[ 28  54  77]\n",
      "  [ 17  39  61]\n",
      "  [  0   4  24]\n",
      "  ...\n",
      "  [102 104 104]\n",
      "  [ 95  97  97]\n",
      "  [ 95  97  97]]\n",
      "\n",
      " [[ 28  54  77]\n",
      "  [ 17  39  61]\n",
      "  [  0   4  24]\n",
      "  ...\n",
      "  [102 104 104]\n",
      "  [ 95  97  97]\n",
      "  [ 95  97  97]]\n",
      "\n",
      " [[ 29  55  79]\n",
      "  [ 18  40  62]\n",
      "  [  0   5  25]\n",
      "  ...\n",
      "  [102 104 104]\n",
      "  [ 95  97  97]\n",
      "  [ 95  97  97]]\n",
      "\n",
      " ...\n",
      "\n",
      " [[151 152 150]\n",
      "  [108 109 107]\n",
      "  [ 74  73  71]\n",
      "  ...\n",
      "  [ 91  96 100]\n",
      "  [ 41  46  50]\n",
      "  [ 25  31  35]]\n",
      "\n",
      " [[ 86  89  93]\n",
      "  [ 48  49  53]\n",
      "  [ 40  38  43]\n",
      "  ...\n",
      "  [ 89  93  95]\n",
      "  [ 63  67  69]\n",
      "  [ 75  79  81]]\n",
      "\n",
      " [[  6  10  16]\n",
      "  [ 20  23  29]\n",
      "  [ 28  28  35]\n",
      "  ...\n",
      "  [ 11  16  15]\n",
      "  [ 18  23  22]\n",
      "  [ 15  19  19]]]\n"
     ]
    }
   ],
   "source": [
    "img1 = cv2.imread(\"image_1.webp\")  \n",
    "print(img1)"
   ]
  },
  {
   "cell_type": "code",
   "execution_count": 17,
   "metadata": {},
   "outputs": [
    {
     "data": {
      "text/plain": [
       "array([1, 2, 3, 1, 2, 3, 1, 2, 3, 1, 2, 3])"
      ]
     },
     "execution_count": 17,
     "metadata": {},
     "output_type": "execute_result"
    }
   ],
   "source": [
    "v = np.array([1,2,3,1,2,3])\n",
    "np.hstack((v,v))"
   ]
  },
  {
   "cell_type": "code",
   "execution_count": 22,
   "metadata": {},
   "outputs": [
    {
     "data": {
      "text/plain": [
       "array([[1, 2, 3, 1, 2, 3],\n",
       "       [1, 2, 3, 1, 2, 3]])"
      ]
     },
     "execution_count": 22,
     "metadata": {},
     "output_type": "execute_result"
    }
   ],
   "source": [
    "v = np.array([1,2,3,1,2,3])\n",
    "np.vstack((v,v))"
   ]
  },
  {
   "cell_type": "code",
   "execution_count": 24,
   "metadata": {},
   "outputs": [],
   "source": [
    "img = cv2.imread(\"image_2.jpg\")  \n",
    "img = cv2.resize(img2, (300,300)) #resize image\n",
    "h = np.hstack((img, img))\n",
    "cv2.imshow(\"Image 2\", h)\n",
    "cv2.waitKey(0) \n",
    "cv2.destroyAllWindows() "
   ]
  },
  {
   "cell_type": "code",
   "execution_count": 25,
   "metadata": {},
   "outputs": [],
   "source": [
    "img = cv2.imread(\"image_2.jpg\")  \n",
    "img = cv2.resize(img2, (300,300)) #resize image\n",
    "v = np.vstack((img, img))\n",
    "cv2.imshow(\"Image 2\", v)\n",
    "cv2.waitKey(0) \n",
    "cv2.destroyAllWindows() "
   ]
  },
  {
   "cell_type": "code",
   "execution_count": 26,
   "metadata": {},
   "outputs": [],
   "source": [
    "img = cv2.imread(\"image_2.jpg\")  \n",
    "img = cv2.resize(img2, (300,300)) #resize image\n",
    "h = np.hstack((img, img))\n",
    "v = np.vstack((h,h))\n",
    "cv2.imshow(\"Image 2\", v)\n",
    "cv2.waitKey(0) \n",
    "cv2.destroyAllWindows() "
   ]
  },
  {
   "cell_type": "code",
   "execution_count": 3,
   "metadata": {},
   "outputs": [],
   "source": [
    "image_list = [\"image_1.webp\",\"image_2.jpg\",\"image_1.webp\",\"image_2.jpg\",\"image_1.webp\",\n",
    "              \"image_2.jpg\", \"image_1.webp\",\"image_2.jpg\",\"image_1.webp\",\"image_2.jpg\"]\n",
    "for name in image_list:\n",
    "    img = cv2.imread(name)\n",
    "    img = cv2.resize(img, (500, 500))\n",
    "    cv2.imshow(\"Image Slidshow\",img)\n",
    "    cv2.waitKey(1000)\n",
    "cv2.destroyAllWindows()    \n"
   ]
  },
  {
   "cell_type": "code",
   "execution_count": 4,
   "metadata": {},
   "outputs": [],
   "source": [
    "image_list = [\"image_1.webp\",\"image_2.jpg\",\"image_1.webp\",\"image_2.jpg\",\"image_1.webp\",\n",
    "              \"image_2.jpg\", \"image_1.webp\",\"image_2.jpg\",\"image_1.webp\",\"image_2.jpg\"]\n",
    "for name in image_list:\n",
    "    img = cv2.imread(name)\n",
    "    img = cv2.resize(img, (500, 500))\n",
    "    cv2.imshow(\"Image Slidshow\",img)\n",
    "    cv2.waitKey(0)\n",
    "cv2.destroyAllWindows()    \n"
   ]
  },
  {
   "cell_type": "code",
   "execution_count": 13,
   "metadata": {},
   "outputs": [],
   "source": [
    "img1 = cv2.imread(\"image_1.webp\")  \n",
    "cv2.putText(img = img1,     #Put Text on Image\n",
    "            text= \"Men\",\n",
    "            org = (100,200),\n",
    "            fontFace = cv2.FONT_HERSHEY_DUPLEX, \n",
    "            fontScale=3, \n",
    "            color = (0, 255, 0),  #BGR\n",
    "            thickness = 3,\n",
    "            lineType = cv2.LINE_8, \n",
    "            bottomLeftOrigin = False\n",
    "        )\n",
    "cv2.imshow(\"Image 1\", img1)\n",
    "cv2.waitKey(0) \n",
    "cv2.destroyAllWindows() \n"
   ]
  },
  {
   "cell_type": "code",
   "execution_count": 31,
   "metadata": {},
   "outputs": [],
   "source": [
    "img2 = cv2.imread(\"image_2.jpg\") \n",
    "img2 = cv2.resize(img, (500,500)) \n",
    "cv2.line(img = img2,\n",
    "        pt1 = (80,95),\n",
    "        pt2 = (125,70),\n",
    "        color =  (0,255,0),\n",
    "        thickness = 3,\n",
    "        lineType = 4,\n",
    "    )\n",
    "cv2.line(img = img2,\n",
    "        pt1 = (125,70),\n",
    "        pt2 = (174,60),\n",
    "        color =  (0,255,0),\n",
    "        thickness = 3,\n",
    "        lineType = 4,\n",
    "    )\n",
    "cv2.imshow(\"Image 2\", img2)\n",
    "cv2.waitKey(0) \n",
    "cv2.destroyAllWindows() \n"
   ]
  },
  {
   "cell_type": "code",
   "execution_count": 33,
   "metadata": {},
   "outputs": [],
   "source": [
    "img2 = cv2.imread(\"image_2.jpg\") \n",
    "img2 = cv2.resize(img, (500,500)) \n",
    "cv2.rectangle(img = img2,\n",
    "        pt1 = (80,95),\n",
    "        pt2 = (125,70),\n",
    "        color =  (0,255,0),\n",
    "        thickness = 3,\n",
    "        lineType = 4,\n",
    "    )\n",
    "\n",
    "cv2.imshow(\"Image 2\", img2)\n",
    "cv2.waitKey(0) \n",
    "cv2.destroyAllWindows() \n"
   ]
  },
  {
   "cell_type": "code",
   "execution_count": null,
   "metadata": {},
   "outputs": [],
   "source": []
  },
  {
   "cell_type": "code",
   "execution_count": null,
   "metadata": {},
   "outputs": [],
   "source": []
  },
  {
   "cell_type": "code",
   "execution_count": null,
   "metadata": {},
   "outputs": [],
   "source": []
  }
 ],
 "metadata": {
  "kernelspec": {
   "display_name": "env",
   "language": "python",
   "name": "python3"
  },
  "language_info": {
   "codemirror_mode": {
    "name": "ipython",
    "version": 3
   },
   "file_extension": ".py",
   "mimetype": "text/x-python",
   "name": "python",
   "nbconvert_exporter": "python",
   "pygments_lexer": "ipython3",
   "version": "3.12.7"
  }
 },
 "nbformat": 4,
 "nbformat_minor": 2
}
